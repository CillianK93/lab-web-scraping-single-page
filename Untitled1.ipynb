{
 "cells": [
  {
   "cell_type": "code",
   "execution_count": 35,
   "id": "fd7f40c8",
   "metadata": {
    "ExecuteTime": {
     "end_time": "2023-09-08T10:55:50.900374Z",
     "start_time": "2023-09-08T10:55:50.882920Z"
    }
   },
   "outputs": [],
   "source": [
    "from bs4 import BeautifulSoup\n",
    "import requests\n",
    "import pandas as pd\n",
    "import math\n",
    "import datetime"
   ]
  },
  {
   "cell_type": "markdown",
   "id": "5b1fde5a",
   "metadata": {},
   "source": [
    " ##   My goal is to Web scrap pitchfork for its 100 best songs of the year ranging from 2022 till 2006."
   ]
  },
  {
   "cell_type": "code",
   "execution_count": 3,
   "id": "7747f8a0",
   "metadata": {
    "ExecuteTime": {
     "end_time": "2023-09-07T19:56:18.118622Z",
     "start_time": "2023-09-07T19:56:17.482502Z"
    }
   },
   "outputs": [
    {
     "data": {
      "text/plain": [
       "200"
      ]
     },
     "execution_count": 3,
     "metadata": {},
     "output_type": "execute_result"
    }
   ],
   "source": [
    "r = requests.get('https://pitchfork.com/features/lists-and-guides/best-songs-2022/')\n",
    "r.status_code"
   ]
  },
  {
   "cell_type": "code",
   "execution_count": 12,
   "id": "aef74564",
   "metadata": {
    "ExecuteTime": {
     "end_time": "2023-09-07T20:18:12.405691Z",
     "start_time": "2023-09-07T20:18:12.202886Z"
    },
    "scrolled": true
   },
   "outputs": [
    {
     "data": {
      "text/plain": [
       "<div aria-level=\"3\" class=\"heading-h3\" role=\"heading\">100.</div>"
      ]
     },
     "execution_count": 12,
     "metadata": {},
     "output_type": "execute_result"
    }
   ],
   "source": [
    "soup = BeautifulSoup(r.content, 'html.parser')\n",
    "soup.find('div', attrs = {'class' : 'heading-h3' })#.find('h2').get_text"
   ]
  },
  {
   "cell_type": "code",
   "execution_count": 33,
   "id": "ead3f254",
   "metadata": {
    "ExecuteTime": {
     "end_time": "2023-09-08T10:51:02.190661Z",
     "start_time": "2023-09-08T10:51:02.177536Z"
    }
   },
   "outputs": [],
   "source": [
    "tags = soup.find_all('h2')\n",
    "\n",
    "artists = []\n",
    "songs = []\n",
    "for tag in tags:\n",
    "    \n",
    "    parts = tag.get_text().split(':')\n",
    "    \n",
    "    artist = parts[0].replace(',', '').strip()\n",
    "    \n",
    "    artists.append(artist)\n",
    "    \n",
    "    song = parts[1].replace('“', '').replace('”', '').strip()\n",
    "    \n",
    "    songs.append(song)\n",
    "#artists_songs = [tag.get_text().replace(':', '').replace('“', '') for tag in tags]\n",
    "#artists_songs\n"
   ]
  },
  {
   "cell_type": "code",
   "execution_count": 34,
   "id": "2814d0d2",
   "metadata": {
    "ExecuteTime": {
     "end_time": "2023-09-08T10:51:03.055160Z",
     "start_time": "2023-09-08T10:51:03.034961Z"
    }
   },
   "outputs": [
    {
     "data": {
      "text/plain": [
       "[('Harry Styles', 'As It Was'),\n",
       " ('Black Midi', 'Welcome to Hell'),\n",
       " ('Phoenix', 'Tonight [ft. Ezra Koenig]'),\n",
       " ('Tomberlin', 'happy accident'),\n",
       " ('Ela Minus / DJ Python', 'Pájaros en Verano'),\n",
       " ('Horse Lords', 'May Brigade'),\n",
       " ('Julia Jacklin', 'Lydia Wears a Cross'),\n",
       " ('4s4ki', 'Punish'),\n",
       " ('Wednesday', 'Bull Believer'),\n",
       " ('Two Shell', 'Pods'),\n",
       " ('Joe Rainey', 'bezhigo'),\n",
       " ('Pusha T', 'Diet Coke'),\n",
       " ('Panda Bear / Sonic Boom', 'Edge of the Edge'),\n",
       " ('MUNA', 'What I Want'),\n",
       " ('Burial', 'Strange Neighbourhood'),\n",
       " ('Ka', 'Ascension'),\n",
       " ('Sharon Van Etten', 'Anything'),\n",
       " ('Cole Pulice', 'City in a City'),\n",
       " ('Bandmanrill', 'Real Hips'),\n",
       " ('Animal Collective', 'Royal and Desire'),\n",
       " ('Kelela', 'Washed Away'),\n",
       " ('Gilla Band', 'Backwash'),\n",
       " ('Yung Kayo', 'hear you [ft. Eartheater]'),\n",
       " ('Porridge Radio', 'Back to the Radio'),\n",
       " ('Mabe Fratti', 'Cada Músculo'),\n",
       " ('Earl Sweatshirt', 'Tabula Rasa [ft. Armand Hammer]'),\n",
       " ('Ibibio Sound Machine', 'Protection From Evil'),\n",
       " ('Babyface Ray', 'Sincerely Face'),\n",
       " ('Eliza Rose / Interplanetary Criminal', 'B.O.T.A. (Baddest of Them All)'),\n",
       " ('Shygirl', 'Coochie (a bedtime story)'),\n",
       " ('Oso Oso', 'Computer Exploder'),\n",
       " ('Mavi', 'Baking Soda'),\n",
       " ('Dehd', 'Bad Love'),\n",
       " ('Koffee', 'Pull Up'),\n",
       " ('Hagop Tchaparian', 'Right to Riot'),\n",
       " ('Arctic Monkeys', 'Body Paint'),\n",
       " ('Perfume Genius', 'Ugly Season'),\n",
       " ('Azealia Banks', 'New Bottega'),\n",
       " ('Fever Ray', 'What They Call Us'),\n",
       " ('Amber Mark', 'What It Is'),\n",
       " ('Plains', 'Problem With It'),\n",
       " ('Alabaster DePlume', 'Don’t Forget You’re Precious'),\n",
       " ('Kehlani', 'melt'),\n",
       " ('Camp Cope', 'Running With the Hurricane'),\n",
       " ('Beyoncé', 'Break My Soul'),\n",
       " ('Black Country New Road', 'Basketball Shoes'),\n",
       " ('DJ Python', 'Angel'),\n",
       " ('FKA twigs', 'honda [ft. Pa Salieu]'),\n",
       " ('Fontaines D.C.', 'Jackie Down the Line'),\n",
       " ('KH', 'Looking at Your Pager'),\n",
       " ('Danger Mouse / Black Thought', 'Belize [ft. MF DOOM]'),\n",
       " ('Jessie Ware', 'Free Yourself'),\n",
       " ('Ravyn Lenae', 'Light Me Up'),\n",
       " ('Maren Morris', 'Circles Around This Town'),\n",
       " ('Drake', 'Sticky'),\n",
       " ('Lucrecia Dalt', 'El Galatzó'),\n",
       " ('Taylor Swift', 'Anti-Hero'),\n",
       " ('Carly Rae Jepsen', 'Western Wind'),\n",
       " ('MJ Lenderman', 'Tastes Just Like It Costs'),\n",
       " ('Charlotte Adigéry / Bolis Pupul', 'It Hit Me'),\n",
       " ('Yaya Bey', 'keisha'),\n",
       " ('Megan Thee Stallion', 'Plan B'),\n",
       " ('Angel Olsen', 'Big Time'),\n",
       " ('Sudan Archives', 'Home Maker'),\n",
       " ('yeule', 'Bites on My Neck'),\n",
       " ('Special Interest', 'Midnight Legend [ft. Mykki Blanco]'),\n",
       " ('Grace Ives', 'Shelly'),\n",
       " ('Big Thief', 'Spud Infinity'),\n",
       " ('Chief Keef', 'Bitch Where'),\n",
       " ('Charli XCX', 'Constant Repeat'),\n",
       " ('Ice Spice', 'Munch (Feelin’ U)'),\n",
       " ('Jockstrap', 'Greatest Hits'),\n",
       " ('Soccer Mommy', 'Shotgun'),\n",
       " ('Steve Lacy', 'Bad Habit'),\n",
       " ('Cate Le Bon', 'Moderation'),\n",
       " ('Burna Boy', 'Last Last'),\n",
       " ('Daphni', 'Cherry'),\n",
       " ('Weyes Blood', 'It’s Not Just Me, It’s Everybody'),\n",
       " ('Two Shell', 'home'),\n",
       " ('Monaleo', 'We Not Humping (Remix) [ft. Flo Milli]'),\n",
       " ('Caroline Polachek', 'Billions'),\n",
       " ('Beth Orton', 'Friday Night'),\n",
       " ('Björk', 'Ancestress'),\n",
       " ('Nilüfer Yanya', 'Midnight Sun'),\n",
       " ('Kendrick Lamar', 'The Heart Part 5'),\n",
       " ('Rachika Nayar', 'Heaven Come Crashing [ft. Maria BC]'),\n",
       " ('Pharrell', 'Cash In Cash Out [ft. 21 Savage and Tyler, the Creator]'),\n",
       " ('The 1975', 'Part of the Band'),\n",
       " ('Aldous Harding', 'Fever'),\n",
       " ('Ethel Cain', 'American Teenager'),\n",
       " ('Hikaru Utada', 'Somewhere Near Marseilles'),\n",
       " ('Bad Bunny', 'Tití Me Preguntó'),\n",
       " ('Alan Braxe / DJ Falcon', 'Step by Step [ft. Panda Bear]'),\n",
       " ('Rosalía', 'SAOKO'),\n",
       " ('Yeah Yeah Yeahs',\n",
       "  'Spitting Off the Edge of the World [ft. Perfume Genius]'),\n",
       " ('Beyoncé', 'Alien Superstar'),\n",
       " ('Alex G', 'Runner'),\n",
       " ('Glorilla / Hitkidd', 'F.N.F. (Let’s Go)'),\n",
       " ('Destroyer', 'June'),\n",
       " ('Alvvays', 'Belinda Says')]"
      ]
     },
     "execution_count": 34,
     "metadata": {},
     "output_type": "execute_result"
    }
   ],
   "source": [
    "list(zip(artists,songs))"
   ]
  },
  {
   "cell_type": "code",
   "execution_count": 52,
   "id": "6bded589",
   "metadata": {
    "ExecuteTime": {
     "end_time": "2023-09-08T11:30:30.784263Z",
     "start_time": "2023-09-08T11:30:30.770152Z"
    }
   },
   "outputs": [],
   "source": [
    "def get_pitchfork():\n",
    "\n",
    "    artists = []\n",
    "    songs = []\n",
    "    year_released = []\n",
    "    base_url = 'https://pitchfork.com/features/lists-and-guides/best-songs-{}'\n",
    "\n",
    "    start_year = 2006\n",
    "    end_year = 2022\n",
    "\n",
    "    for year in range(start_year, end_year + 1):\n",
    "   \n",
    "        url = base_url.format(year)\n",
    "        r = requests.get(url)\n",
    "    \n",
    "        soup = BeautifulSoup(r.content, 'html.parser')\n",
    "        tags = soup.find_all('h2')\n",
    "    \n",
    "        for tag in tags:\n",
    "            parts = tag.get_text().split(':')\n",
    "        \n",
    "            if len(parts) > 1:\n",
    "                artist = parts[0].replace(',', '').strip()\n",
    "                artists.append(artist)\n",
    "            \n",
    "                song = parts[1].replace('“', '').replace('”', '').strip()\n",
    "                songs.append(song)\n",
    "                \n",
    "                year_released.append(year)\n",
    "    \n",
    "    return artists, songs, year_released\n",
    "    "
   ]
  },
  {
   "cell_type": "code",
   "execution_count": null,
   "id": "89e0cd0d",
   "metadata": {
    "ExecuteTime": {
     "start_time": "2023-09-08T11:30:34.417Z"
    },
    "scrolled": false
   },
   "outputs": [],
   "source": [
    "artists, songs, year_released = get_pitchfork()\n",
    "list(zip(artists,songs,year_released))"
   ]
  },
  {
   "cell_type": "code",
   "execution_count": null,
   "id": "25f10a2d",
   "metadata": {},
   "outputs": [],
   "source": []
  }
 ],
 "metadata": {
  "kernelspec": {
   "display_name": "Python 3 (ipykernel)",
   "language": "python",
   "name": "python3"
  },
  "language_info": {
   "codemirror_mode": {
    "name": "ipython",
    "version": 3
   },
   "file_extension": ".py",
   "mimetype": "text/x-python",
   "name": "python",
   "nbconvert_exporter": "python",
   "pygments_lexer": "ipython3",
   "version": "3.10.9"
  }
 },
 "nbformat": 4,
 "nbformat_minor": 5
}
